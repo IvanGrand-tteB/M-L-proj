{
  "nbformat": 4,
  "nbformat_minor": 0,
  "metadata": {
    "colab": {
      "name": "Stock_Predict.ipynb",
      "provenance": [],
      "collapsed_sections": [],
      "authorship_tag": "ABX9TyON7kxcBgqxIR6LnztfXMoW",
      "include_colab_link": true
    },
    "kernelspec": {
      "name": "python3",
      "display_name": "Python 3"
    },
    "language_info": {
      "name": "python"
    }
  },
  "cells": [
    {
      "cell_type": "markdown",
      "metadata": {
        "id": "view-in-github",
        "colab_type": "text"
      },
      "source": [
        "<a href=\"https://colab.research.google.com/github/IvanGrand-tteB/M-L-proj/blob/master/Stock_Predict.ipynb\" target=\"_parent\"><img src=\"https://colab.research.google.com/assets/colab-badge.svg\" alt=\"Open In Colab\"/></a>"
      ]
    },
    {
      "cell_type": "code",
      "source": [
        "import pandas_datareader as web\n",
        "import pandas as pd\n",
        "import numpy as np\n",
        "import datetime as dt\n",
        "import matplotlib.pyplot as plt\n",
        "from sklearn.preprocessing import MinMaxScaler\n",
        "from tensorflow.keras.models import Sequential\n",
        "from tensorflow.keras.layers import Dropout, Dense, LSTM"
      ],
      "metadata": {
        "id": "D0tu2yPNn984"
      },
      "execution_count": 33,
      "outputs": []
    },
    {
      "cell_type": "code",
      "source": [
        "#Load data\n",
        "\n",
        "company = \"FB\"\n",
        "start = pd.to_datetime(['2012-01-01']).astype(int)[0]//10**9\n",
        "end = pd.to_datetime(['2021-02-01']).astype(int)[0]//10**9\n",
        "url = 'https://query1.finance.yahoo.com/v7/finance/download/' + 'FB' + '?period1='+str(start) + '&period2='+str(end)+ '&interval=1d&events=history'\n",
        "data = pd.read_csv(url, index_col=\"Date\",parse_dates=True)\n"
      ],
      "metadata": {
        "colab": {
          "base_uri": "https://localhost:8080/"
        },
        "id": "hWSXyiFoe3fN",
        "outputId": "ca7dcd55-cc98-42f2-aafb-2657962c9aff"
      },
      "execution_count": 34,
      "outputs": [
        {
          "output_type": "stream",
          "name": "stderr",
          "text": [
            "/usr/local/lib/python3.7/dist-packages/ipykernel_launcher.py:4: FutureWarning: casting datetime64[ns] values to int64 with .astype(...) is deprecated and will raise in a future version. Use .view(...) instead.\n",
            "  after removing the cwd from sys.path.\n",
            "/usr/local/lib/python3.7/dist-packages/ipykernel_launcher.py:5: FutureWarning: casting datetime64[ns] values to int64 with .astype(...) is deprecated and will raise in a future version. Use .view(...) instead.\n",
            "  \"\"\"\n"
          ]
        }
      ]
    },
    {
      "cell_type": "code",
      "source": [
        "data.info()"
      ],
      "metadata": {
        "colab": {
          "base_uri": "https://localhost:8080/"
        },
        "id": "D6zDSjOXqR6R",
        "outputId": "3aa594fc-1d1d-4fbe-a9bf-19fbfe688c68"
      },
      "execution_count": 3,
      "outputs": [
        {
          "output_type": "stream",
          "name": "stdout",
          "text": [
            "<class 'pandas.core.frame.DataFrame'>\n",
            "DatetimeIndex: 2189 entries, 2012-05-18 to 2021-01-29\n",
            "Data columns (total 6 columns):\n",
            " #   Column     Non-Null Count  Dtype  \n",
            "---  ------     --------------  -----  \n",
            " 0   Open       2189 non-null   float64\n",
            " 1   High       2189 non-null   float64\n",
            " 2   Low        2189 non-null   float64\n",
            " 3   Close      2189 non-null   float64\n",
            " 4   Adj Close  2189 non-null   float64\n",
            " 5   Volume     2189 non-null   int64  \n",
            "dtypes: float64(5), int64(1)\n",
            "memory usage: 119.7 KB\n"
          ]
        }
      ]
    },
    {
      "cell_type": "code",
      "source": [
        "#Harmonize dtypes\n",
        "\n",
        "data[\"Volume\"] = data[\"Volume\"].astype(float)"
      ],
      "metadata": {
        "id": "jXnii4isK0Dd"
      },
      "execution_count": 35,
      "outputs": []
    },
    {
      "cell_type": "code",
      "source": [
        "data.info()"
      ],
      "metadata": {
        "colab": {
          "base_uri": "https://localhost:8080/"
        },
        "id": "VT35n5ALMaRA",
        "outputId": "760ee657-0358-40c3-e98a-742ec0003fc3"
      },
      "execution_count": 36,
      "outputs": [
        {
          "output_type": "stream",
          "name": "stdout",
          "text": [
            "<class 'pandas.core.frame.DataFrame'>\n",
            "DatetimeIndex: 2189 entries, 2012-05-18 to 2021-01-29\n",
            "Data columns (total 6 columns):\n",
            " #   Column     Non-Null Count  Dtype  \n",
            "---  ------     --------------  -----  \n",
            " 0   Open       2189 non-null   float64\n",
            " 1   High       2189 non-null   float64\n",
            " 2   Low        2189 non-null   float64\n",
            " 3   Close      2189 non-null   float64\n",
            " 4   Adj Close  2189 non-null   float64\n",
            " 5   Volume     2189 non-null   float64\n",
            "dtypes: float64(6)\n",
            "memory usage: 119.7 KB\n"
          ]
        }
      ]
    },
    {
      "cell_type": "code",
      "source": [
        "scaler = MinMaxScaler(feature_range=(0,1))\n",
        "scaled_data = scaler.fit_transform(data['Close'].values.reshape(-1,1))\n",
        "\n",
        "prediction_days = 60\n",
        "\n",
        "x_train = []\n",
        "y_train = []\n",
        "\n",
        "for i in range(prediction_days, len(scaled_data)):\n",
        "  x_train.append(scaled_data[i-prediction_days:i, 0])\n",
        "  y_train.append(scaled_data[i, 0])\n",
        "\n",
        "x_train, y_train = np.array(x_train), np.array(y_train)\n",
        "x_train = np.reshape(x_train, (x_train.shape[0], x_train.shape[1] , 1))\n"
      ],
      "metadata": {
        "id": "8KNk5ldLhS6L"
      },
      "execution_count": 37,
      "outputs": []
    },
    {
      "cell_type": "code",
      "source": [
        "#Build the Model\n",
        "model = Sequential()\n",
        "\n",
        "model.add(LSTM(units=50 , return_sequences=True, input_shape=(x_train.shape[1],1)))\n",
        "model.add(Dropout(0.2))\n",
        "\n",
        "model.add(LSTM(units=50, return_sequences=True))\n",
        "model.add(Dropout(0.2))\n",
        "\n",
        "model.add(LSTM(units=50, return_sequences=True))\n",
        "model.add(Dropout(0.2))\n",
        "\n",
        "model.add(LSTM(units=50))\n",
        "model.add(Dropout(0.2))\n",
        "\n",
        "model.add(Dense(units=1))\n",
        "\n",
        "model.compile(optimizer = 'adam', loss = 'mean_squared_error')\n",
        "model.fit(x_train, y_train, epochs=25, batch_size=32)\n",
        "\n"
      ],
      "metadata": {
        "colab": {
          "base_uri": "https://localhost:8080/"
        },
        "id": "xjx1H94WpHCT",
        "outputId": "3f109949-b72d-40a6-fa98-b728ee54498b"
      },
      "execution_count": 44,
      "outputs": [
        {
          "output_type": "stream",
          "name": "stdout",
          "text": [
            "Epoch 1/25\n",
            "67/67 [==============================] - 14s 115ms/step - loss: 0.0172\n",
            "Epoch 2/25\n",
            "67/67 [==============================] - 8s 117ms/step - loss: 0.0032\n",
            "Epoch 3/25\n",
            "67/67 [==============================] - 8s 119ms/step - loss: 0.0026\n",
            "Epoch 4/25\n",
            "67/67 [==============================] - 8s 114ms/step - loss: 0.0028\n",
            "Epoch 5/25\n",
            "67/67 [==============================] - 8s 114ms/step - loss: 0.0026\n",
            "Epoch 6/25\n",
            "67/67 [==============================] - 8s 114ms/step - loss: 0.0024\n",
            "Epoch 7/25\n",
            "67/67 [==============================] - 8s 115ms/step - loss: 0.0023\n",
            "Epoch 8/25\n",
            "67/67 [==============================] - 8s 114ms/step - loss: 0.0024\n",
            "Epoch 9/25\n",
            "67/67 [==============================] - 9s 132ms/step - loss: 0.0023\n",
            "Epoch 10/25\n",
            "67/67 [==============================] - 8s 119ms/step - loss: 0.0020\n",
            "Epoch 11/25\n",
            "67/67 [==============================] - 8s 116ms/step - loss: 0.0023\n",
            "Epoch 12/25\n",
            "67/67 [==============================] - 8s 116ms/step - loss: 0.0019\n",
            "Epoch 13/25\n",
            "67/67 [==============================] - 8s 114ms/step - loss: 0.0021\n",
            "Epoch 14/25\n",
            "67/67 [==============================] - 8s 119ms/step - loss: 0.0020\n",
            "Epoch 15/25\n",
            "67/67 [==============================] - 8s 116ms/step - loss: 0.0018\n",
            "Epoch 16/25\n",
            "67/67 [==============================] - 8s 114ms/step - loss: 0.0017\n",
            "Epoch 17/25\n",
            "67/67 [==============================] - 8s 115ms/step - loss: 0.0017\n",
            "Epoch 18/25\n",
            "67/67 [==============================] - 8s 117ms/step - loss: 0.0017\n",
            "Epoch 19/25\n",
            "67/67 [==============================] - 8s 115ms/step - loss: 0.0018\n",
            "Epoch 20/25\n",
            "67/67 [==============================] - 8s 116ms/step - loss: 0.0017\n",
            "Epoch 21/25\n",
            "67/67 [==============================] - 8s 114ms/step - loss: 0.0016\n",
            "Epoch 22/25\n",
            "67/67 [==============================] - 8s 117ms/step - loss: 0.0016\n",
            "Epoch 23/25\n",
            "67/67 [==============================] - 8s 117ms/step - loss: 0.0016\n",
            "Epoch 24/25\n",
            "67/67 [==============================] - 8s 116ms/step - loss: 0.0015\n",
            "Epoch 25/25\n",
            "67/67 [==============================] - 8s 115ms/step - loss: 0.0015\n"
          ]
        },
        {
          "output_type": "execute_result",
          "data": {
            "text/plain": [
              "<keras.callbacks.History at 0x7fbc04d7c110>"
            ]
          },
          "metadata": {},
          "execution_count": 44
        }
      ]
    },
    {
      "cell_type": "code",
      "source": [
        ""
      ],
      "metadata": {
        "id": "ECOnPlU3r8WU"
      },
      "execution_count": 39,
      "outputs": []
    },
    {
      "cell_type": "code",
      "source": [
        ""
      ],
      "metadata": {
        "id": "z6hV8rVq0kcF"
      },
      "execution_count": null,
      "outputs": []
    },
    {
      "cell_type": "code",
      "source": [
        "#Load data\n",
        "\n",
        "test_start = pd.to_datetime(['2021-02-01']).astype(int)[0]//10**9\n",
        "test_end = pd.to_datetime(['2022-02-01']).astype(int)[0]//10**9\n",
        "url = 'https://query1.finance.yahoo.com/v7/finance/download/' + 'FB' + '?period1='+str(start) + '&period2='+str(end)+ '&interval=1d&events=history'\n",
        "test_data = pd.read_csv(url)\n",
        "actual_prices = test_data['Close'].values\n",
        "\n",
        "total_dataset = pd.concat((data['Close'], test_data['Close']), axis=0)\n",
        "\n",
        "model_inputs= total_dataset[len(total_dataset)- len(test_data)-prediction_days:].values\n",
        "model_inputs=model_inputs.reshape(-1,1)\n",
        "model_inputs= scaler.transform(model_inputs)\n",
        "\n",
        "#Make ppredictions on Test data\n",
        "x_test = []\n",
        "\n",
        "for i in range(prediction_days,len(model_inputs)):\n",
        "  x_test.append(model_inputs[i-prediction_days:i, 0])\n",
        "\n",
        "x_test = np.array(x_test)\n",
        "x_test = np.reshape(x_test, (x_test.shape[0] , x_test.shape[1], 1))"
      ],
      "metadata": {
        "colab": {
          "base_uri": "https://localhost:8080/"
        },
        "outputId": "10c99da0-a4dc-42a7-920d-be6ca9d298c2",
        "id": "QZck_BRlz2ms"
      },
      "execution_count": 45,
      "outputs": [
        {
          "output_type": "stream",
          "name": "stderr",
          "text": [
            "/usr/local/lib/python3.7/dist-packages/ipykernel_launcher.py:3: FutureWarning: casting datetime64[ns] values to int64 with .astype(...) is deprecated and will raise in a future version. Use .view(...) instead.\n",
            "  This is separate from the ipykernel package so we can avoid doing imports until\n",
            "/usr/local/lib/python3.7/dist-packages/ipykernel_launcher.py:4: FutureWarning: casting datetime64[ns] values to int64 with .astype(...) is deprecated and will raise in a future version. Use .view(...) instead.\n",
            "  after removing the cwd from sys.path.\n"
          ]
        }
      ]
    },
    {
      "cell_type": "code",
      "source": [
        "predicted_prices = model.predict(x_test)\n",
        "predicted_prices = scaler.inverse_transform(predicted_prices)\n",
        "\n",
        "#Plot the predicted prices\n",
        "plt.plot(actual_prices, color=\"black\", label=f\"Actual {company} Price\")\n",
        "plt.plot(predicted_prices, color=\"green\", label=f'Predicted {company} Price')\n",
        "plt.title(f\"{company} Share Price\")\n",
        "plt.xlabel('Time')\n",
        "plt.ylabel(f'{company} Share Price')\n",
        "plt.show()"
      ],
      "metadata": {
        "colab": {
          "base_uri": "https://localhost:8080/",
          "height": 295
        },
        "id": "en_l4VWe28CP",
        "outputId": "86c0eedc-f4f7-4f36-c91c-f2c16d443c0a"
      },
      "execution_count": 46,
      "outputs": [
        {
          "output_type": "display_data",
          "data": {
            "image/png": "[encoded data removed]",
            "text/plain": [
              "<Figure size 432x288 with 1 Axes>"
            ]
          },
          "metadata": {
            "needs_background": "light"
          }
        }
      ]
    },
    {
      "cell_type": "code",
      "source": [
        "#Predict next day\n",
        "real_data = [model_inputs[len(model_inputs) - prediction_days:len(model_inputs),0]]\n",
        "real_data = np.array(real_data)\n",
        "real_data = np.reshape(real_data, (real_data.shape[0], real_data.shape[1], 1))\n",
        "\n",
        "prediction = model.predict(real_data)\n",
        "prediction = scaler.inverse_transform(predicted_prices)\n",
        "print(f\"Prediction: {prediction}\")"
      ],
      "metadata": {
        "colab": {
          "base_uri": "https://localhost:8080/"
        },
        "id": "Egk36vOH77TU",
        "outputId": "3c546152-bf71-452c-c793-3ee2e7a8cd53"
      },
      "execution_count": 47,
      "outputs": [
        {
          "output_type": "stream",
          "name": "stdout",
          "text": [
            "Prediction: [[77290.58 ]\n",
            " [76750.375]\n",
            " [74324.47 ]\n",
            " ...\n",
            " [74940.68 ]\n",
            " [75736.62 ]\n",
            " [76575.85 ]]\n"
          ]
        }
      ]
    }
  ]
}